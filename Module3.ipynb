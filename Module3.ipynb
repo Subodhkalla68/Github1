{
  "cells": [
    {
      "cell_type": "markdown",
      "metadata": {
        "id": "view-in-github",
        "colab_type": "text"
      },
      "source": [
        "<a href=\"https://colab.research.google.com/github/Subodhkalla68/Github1/blob/main/Module3.ipynb\" target=\"_parent\"><img src=\"https://colab.research.google.com/assets/colab-badge.svg\" alt=\"Open In Colab\"/></a>"
      ]
    },
    {
      "cell_type": "code",
      "execution_count": null,
      "metadata": {
        "colab": {
          "base_uri": "https://localhost:8080/"
        },
        "id": "nZLc4Z_cRFtc",
        "outputId": "34672041-6a8e-4e32-898e-731a94e90d86"
      },
      "outputs": [
        {
          "name": "stdout",
          "output_type": "stream",
          "text": [
            "Mounted at /drive\n"
          ]
        }
      ],
      "source": [
        "from google.colab import drive\n",
        "drive.mount('/drive')"
      ]
    },
    {
      "cell_type": "code",
      "execution_count": null,
      "metadata": {
        "colab": {
          "background_save": true
        },
        "id": "V8KW-l0u2CvK"
      },
      "outputs": [],
      "source": [
        "import pandas as pd\n",
        "import csv\n",
        "import json"
      ]
    },
    {
      "cell_type": "markdown",
      "metadata": {
        "id": "LNOp9_ucUO7G"
      },
      "source": [
        "Reading a File"
      ]
    },
    {
      "cell_type": "code",
      "execution_count": null,
      "metadata": {
        "colab": {
          "base_uri": "https://localhost:8080/"
        },
        "id": "nK7UiFaUUQ13",
        "outputId": "33a87a2f-85df-4957-c088-0cf410199901"
      },
      "outputs": [
        {
          "name": "stdout",
          "output_type": "stream",
          "text": [
            "Twinkle, twinkle, little star\n",
            "How I wonder what you are\n",
            "Up above the world so high\n",
            "Like a diamond in the sky\n",
            "Twinkle, twinkle, little star\n",
            "How I wonder what you are\n",
            "Twinkle, twinkle, little star\n",
            "How I wonder what you are\n",
            "Up above the world so high\n",
            "Like a diamond in the sky\n",
            "Twinkle, twinkle, little star\n",
            "How I wonder what you are\n",
            "Twinkle, twinkle, little star\n",
            "How I wonder what you are\n",
            "Up above the world so high\n",
            "Like a diamond in the sky\n",
            "Twinkle, twinkle, little star\n",
            "How I wonder what you are\n",
            "Twinkle, twinkle, little star\n",
            "How I wonder what you are\n",
            "Up above the world so high\n",
            "Like a diamond in the sky\n",
            "Twinkle, twinkle, little star\n",
            "How I wonder what you are\n",
            "\n",
            "\n"
          ]
        }
      ],
      "source": [
        "fil = open(r'/drive/My Drive/Colab Notebooks/Module-3 files/file.txt', 'r')\n",
        "print(fil.read())\n",
        "\n",
        "fil.close()"
      ]
    },
    {
      "cell_type": "markdown",
      "metadata": {
        "id": "homGp3AaXI8k"
      },
      "source": [
        "Reading n Lines"
      ]
    },
    {
      "cell_type": "code",
      "execution_count": null,
      "metadata": {
        "colab": {
          "base_uri": "https://localhost:8080/"
        },
        "id": "Q1WK15grXKSL",
        "outputId": "436acda9-9764-4333-9374-489dad3787bf"
      },
      "outputs": [
        {
          "name": "stdout",
          "output_type": "stream",
          "text": [
            "Number of Lines: 6\n",
            "Twinkle, twinkle, little star\n",
            "\n",
            "How I wonder what you are\n",
            "\n",
            "Up above the world so high\n",
            "\n",
            "Like a diamond in the sky\n",
            "\n",
            "Twinkle, twinkle, little star\n",
            "\n",
            "How I wonder what you are\n",
            "\n"
          ]
        }
      ],
      "source": [
        "fil = open(r'/drive/My Drive/Colab Notebooks/Module-3 files/file.txt', 'r')\n",
        "n = int(input('Number of Lines: '))\n",
        "lines = fil.readlines()\n",
        "for i in range(0, n): print(lines[i])\n",
        "fil.close()"
      ]
    },
    {
      "cell_type": "markdown",
      "metadata": {
        "id": "CsIITSPg59Nh"
      },
      "source": [
        "Append Text"
      ]
    },
    {
      "cell_type": "code",
      "execution_count": null,
      "metadata": {
        "colab": {
          "base_uri": "https://localhost:8080/"
        },
        "id": "GIdt9LH_5_lV",
        "outputId": "fda17d71-8ad6-428d-9860-8b2213a7de21"
      },
      "outputs": [
        {
          "name": "stdout",
          "output_type": "stream",
          "text": [
            "Text: Johnny Johnny Yes Papa\n",
            "Twinkle, twinkle, little star\n",
            "How I wonder what you are\n",
            "Up above the world so high\n",
            "Like a diamond in the sky\n",
            "Twinkle, twinkle, little star\n",
            "How I wonder what you are\n",
            "Twinkle, twinkle, little star\n",
            "How I wonder what you are\n",
            "Up above the world so high\n",
            "Like a diamond in the sky\n",
            "Twinkle, twinkle, little star\n",
            "How I wonder what you are\n",
            "Twinkle, twinkle, little star\n",
            "How I wonder what you are\n",
            "Up above the world so high\n",
            "Like a diamond in the sky\n",
            "Twinkle, twinkle, little star\n",
            "How I wonder what you are\n",
            "Twinkle, twinkle, little star\n",
            "How I wonder what you are\n",
            "Up above the world so high\n",
            "Like a diamond in the sky\n",
            "Twinkle, twinkle, little star\n",
            "How I wonder what you are\n",
            "\n",
            "Johnny Johnny Yes Papa Johnny Johnny Yes Papa\n"
          ]
        }
      ],
      "source": [
        "fil = open(r'/drive/My Drive/Colab Notebooks/Module-3 files/file.txt', 'a')\n",
        "st = input('Text: ')\n",
        "fil.write(st)\n",
        "fil.close()\n",
        "fil = open(r'/drive/My Drive/Colab Notebooks/Module-3 files/file.txt', 'r')\n",
        "print(fil.read())\n",
        "fil.close()"
      ]
    },
    {
      "cell_type": "markdown",
      "metadata": {
        "id": "LeX5GV-agARZ"
      },
      "source": [
        "Even Odd Seperator"
      ]
    },
    {
      "cell_type": "code",
      "execution_count": null,
      "metadata": {
        "id": "JZpe1n2NgFmt"
      },
      "outputs": [],
      "source": [
        "num_file = open(r'/drive/My Drive/Colab Notebooks/Module-3 files/numbers.txt', 'r')\n",
        "numbers = num_file.readlines()\n",
        "even_file = open(r'/drive/My Drive/Colab Notebooks/Module-3 files/even.txt', 'a')\n",
        "odd_file = open(r'/drive/My Drive/Colab Notebooks/Module-3 files/odd.txt', 'a')\n",
        "for i in numbers:\n",
        "  num = int(i.strip())\n",
        "  if num % 2 == 0:\n",
        "    even_file.write(i)\n",
        "  else:\n",
        "    odd_file.write(i)\n",
        "num_file.close()\n",
        "even_file.close()\n",
        "odd_file.close()"
      ]
    },
    {
      "cell_type": "markdown",
      "metadata": {
        "id": "_cf1Ic8Ch-Jr"
      },
      "source": [
        "Word Character and Line Count"
      ]
    },
    {
      "cell_type": "code",
      "execution_count": null,
      "metadata": {
        "colab": {
          "base_uri": "https://localhost:8080/"
        },
        "id": "oiJ33OvNiLVZ",
        "outputId": "7a131a95-b7d2-4631-8c42-6a7a638c3cba"
      },
      "outputs": [
        {
          "name": "stdout",
          "output_type": "stream",
          "text": [
            "Character Count:  706\n",
            "Word Count:  112\n",
            "Line Count:  26\n"
          ]
        }
      ],
      "source": [
        "fil = open('/drive/My Drive/Colab Notebooks/Module-3 files/file.txt', 'r')\n",
        "content = fil.read()\n",
        "words = content.split(' ')\n",
        "fil.seek(0)\n",
        "lines = fil.readlines()\n",
        "char_count = 0\n",
        "word_count = len(words)\n",
        "line_count = len(lines)\n",
        "for i in content:\n",
        "  char_count += 1\n",
        "print('Character Count: ', char_count)\n",
        "print('Word Count: ', word_count)\n",
        "print('Line Count: ', line_count)\n",
        "fil.close()"
      ]
    },
    {
      "cell_type": "markdown",
      "metadata": {
        "id": "q0wE3Ktygl_3"
      },
      "source": [
        "List to a File"
      ]
    },
    {
      "cell_type": "code",
      "execution_count": null,
      "metadata": {
        "id": "WBzYafQqgvMd"
      },
      "outputs": [],
      "source": [
        "fil = open(r'/drive/My Drive/Colab Notebooks/Module-3 files/file2.txt', 'w')\n",
        "n = ['Hi there', 'My name is anonymous']\n",
        "fil.writelines(n)\n",
        "fil.close()"
      ]
    },
    {
      "cell_type": "markdown",
      "metadata": {
        "id": "Q6Nr6l-Korns"
      },
      "source": [
        "CSV Reading as Dataframe"
      ]
    },
    {
      "cell_type": "code",
      "execution_count": null,
      "metadata": {
        "colab": {
          "base_uri": "https://localhost:8080/"
        },
        "id": "_STRghrhouJk",
        "outputId": "a2441511-c2d4-48a6-f28c-0969ed9b5a37"
      },
      "outputs": [
        {
          "name": "stdout",
          "output_type": "stream",
          "text": [
            "  Month   \"Average\"   \"2005\"   \"2006\"   \"2007\"   \"2008\"   \"2009\"   \"2010\"  \\\n",
            "0   May         0.1        0        0        1        1        0        0   \n",
            "1   Jun         0.5        2        1        1        0        0        1   \n",
            "2   Jul         0.7        5        1        1        2        0        1   \n",
            "3   Aug         2.3        6        3        2        4        4        4   \n",
            "4   Sep         3.5        6        4        7        4        2        8   \n",
            "5   Oct         2.0        8        0        1        3        2        5   \n",
            "6   Nov         0.5        3        0        0        1        1        0   \n",
            "7   Dec         0.0        1        0        1        0        0        0   \n",
            "\n",
            "    \"2011\"   \"2012\"   \"2013\"   \"2014\"   \"2015\"  \n",
            "0        0        2        0        0        0  \n",
            "1        1        2        2        0        1  \n",
            "2        3        0        2        2        1  \n",
            "3        7        8        2        2        3  \n",
            "4        5        2        5        2        5  \n",
            "5        1        5        2        3        0  \n",
            "6        1        0        1        0        1  \n",
            "7        0        0        0        0        1  \n"
          ]
        }
      ],
      "source": [
        "df = pd.read_csv(r'/drive/My Drive/Colab Notebooks/Module-3 files/sample1.csv', encoding='unicode_escape')\n",
        "print(df)"
      ]
    },
    {
      "cell_type": "markdown",
      "metadata": {
        "id": "GiBTEabzu8Dg"
      },
      "source": [
        "Condition in Dataframes"
      ]
    },
    {
      "cell_type": "code",
      "execution_count": null,
      "metadata": {
        "colab": {
          "base_uri": "https://localhost:8080/"
        },
        "id": "0m5rMz9uvCvO",
        "outputId": "99ac0cbc-695a-41bf-d49a-623cb677fe22"
      },
      "outputs": [
        {
          "name": "stdout",
          "output_type": "stream",
          "text": [
            "Result Dataframe: \n",
            "   Month   \"Average\"   \"2005\"   \"2006\"   \"2007\"   \"2008\"   \"2009\"   \"2010\"  \\\n",
            "3   Aug         2.3        6        3        2        4        4        4   \n",
            "4   Sep         3.5        6        4        7        4        2        8   \n",
            "5   Oct         2.0        8        0        1        3        2        5   \n",
            "\n",
            "    \"2011\"   \"2012\"   \"2013\"   \"2014\"   \"2015\"  \n",
            "3        7        8        2        2        3  \n",
            "4        5        2        5        2        5  \n",
            "5        1        5        2        3        0  \n"
          ]
        }
      ],
      "source": [
        "rslt_df = df[df[' \"Average\"']>1.0]\n",
        "print('Result Dataframe: \\n', rslt_df)"
      ]
    },
    {
      "cell_type": "markdown",
      "metadata": {
        "id": "p-R4zfCbzbG3"
      },
      "source": [
        "Average Salary by Occupation"
      ]
    },
    {
      "cell_type": "code",
      "execution_count": null,
      "metadata": {
        "colab": {
          "base_uri": "https://localhost:8080/"
        },
        "id": "WT383vFHzgaB",
        "outputId": "651f127d-d23f-4747-dbc1-8105b0807ab8"
      },
      "outputs": [
        {
          "name": "stdout",
          "output_type": "stream",
          "text": [
            "DEPARTMENT_ID\n",
            "10      4400.000000\n",
            "20      9500.000000\n",
            "30      4150.000000\n",
            "40      6500.000000\n",
            "50      3721.739130\n",
            "60      5760.000000\n",
            "70     10000.000000\n",
            "90     19333.333333\n",
            "100     8601.333333\n",
            "110    10154.000000\n",
            "Name: SALARY, dtype: float64\n"
          ]
        }
      ],
      "source": [
        "fil = pd.read_csv('/drive/My Drive/Colab Notebooks/Module-3 files/employees.csv', encoding='unicode_escape')\n",
        "occu_avg = fil.groupby(['DEPARTMENT_ID'])['SALARY'].mean()\n",
        "print(occu_avg)"
      ]
    },
    {
      "cell_type": "markdown",
      "metadata": {
        "id": "r3R5caHA2Rtt"
      },
      "source": [
        "Object to JSON"
      ]
    },
    {
      "cell_type": "code",
      "execution_count": null,
      "metadata": {
        "id": "IbrC1o122Tqc"
      },
      "outputs": [],
      "source": [
        "jsonArray = []\n",
        "csvfil = open(r'/drive/My Drive/Colab Notebooks/Module-3 files/sample1.csv', 'r', encoding='utf-8')\n",
        "csvreader = csv.DictReader(csvfil)\n",
        "for row in csvreader:\n",
        "  jsonArray.append(row)\n",
        "jsonfil = open(r'/drive/My Drive/Colab Notebooks/Module-3 files/jsonfile.json', 'w', encoding='utf-8')\n",
        "jsonString = json.dumps(jsonArray, indent=4)\n",
        "jsonfil.write(jsonString)\n",
        "csvfil.close()\n",
        "jsonfil.close()"
      ]
    },
    {
      "cell_type": "markdown",
      "metadata": {
        "id": "xs-NKBeC5w4g"
      },
      "source": [
        "Reading Columns"
      ]
    },
    {
      "cell_type": "code",
      "execution_count": null,
      "metadata": {
        "colab": {
          "base_uri": "https://localhost:8080/"
        },
        "id": "AyrzEvGg5y9_",
        "outputId": "5294c0d4-0b02-4ad1-a565-256f2dc33f8b"
      },
      "outputs": [
        {
          "name": "stdout",
          "output_type": "stream",
          "text": [
            "  Month   \"Average\"\n",
            "0   May         0.1\n",
            "1   Jun         0.5\n",
            "2   Jul         0.7\n",
            "3   Aug         2.3\n",
            "4   Sep         3.5\n",
            "5   Oct         2.0\n",
            "6   Nov         0.5\n",
            "7   Dec         0.0\n"
          ]
        }
      ],
      "source": [
        "df = pd.read_csv(r'/drive/My Drive/Colab Notebooks/Module-3 files/sample1.csv', encoding='unicode_escape')\n",
        "colfil = df.loc[2:5,['Month',' \"Average\"']]\n",
        "print(colfil)"
      ]
    }
  ],
  "metadata": {
    "colab": {
      "name": "Module-3.ipynb",
      "provenance": [],
      "include_colab_link": true
    },
    "kernelspec": {
      "display_name": "Python 3",
      "name": "python3"
    },
    "language_info": {
      "name": "python"
    }
  },
  "nbformat": 4,
  "nbformat_minor": 0
}