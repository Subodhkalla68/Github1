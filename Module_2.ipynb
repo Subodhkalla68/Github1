{
  "nbformat": 4,
  "nbformat_minor": 0,
  "metadata": {
    "colab": {
      "name": "Module 2.ipynb",
      "provenance": [],
      "collapsed_sections": [],
      "authorship_tag": "ABX9TyNdYFUtoBEkJhEQLYRQ0SrR",
      "include_colab_link": true
    },
    "kernelspec": {
      "name": "python3",
      "display_name": "Python 3"
    },
    "language_info": {
      "name": "python"
    }
  },
  "cells": [
    {
      "cell_type": "markdown",
      "metadata": {
        "id": "view-in-github",
        "colab_type": "text"
      },
      "source": [
        "<a href=\"https://colab.research.google.com/github/Subodhkalla68/Github1/blob/main/Module_2.ipynb\" target=\"_parent\"><img src=\"https://colab.research.google.com/assets/colab-badge.svg\" alt=\"Open In Colab\"/></a>"
      ]
    },
    {
      "cell_type": "code",
      "execution_count": 1,
      "metadata": {
        "id": "5M1px4GXOejd"
      },
      "outputs": [],
      "source": [
        "## loops (Check whether the triangle is equilateral, isosceles, or scalene triangle)"
      ]
    },
    {
      "cell_type": "code",
      "source": [
        "a=int(input(\"Enter your angle:\"))\n",
        "b=int(input(\"Enter your angle:\"))\n",
        "c=int(input(\"Enter your angle:\"))\n",
        "if a==b==c:\n",
        "    print(\"Your triangle is Eqilatral\")\n",
        "elif a==b or b==c or c==a:\n",
        "    print(\"Your triangle is isociles\")\n",
        "else:\n",
        "  print(\"scalene\")\n"
      ],
      "metadata": {
        "colab": {
          "base_uri": "https://localhost:8080/"
        },
        "id": "ou9fliMXOhoa",
        "outputId": "d3fe10dd-4fd5-4c5b-cd71-ca8e8b643b56"
      },
      "execution_count": 7,
      "outputs": [
        {
          "output_type": "stream",
          "name": "stdout",
          "text": [
            "Enter your angle:10\n",
            "Enter your angle:10\n",
            "Enter your angle:20\n",
            "Your triangle is isociles\n"
          ]
        }
      ]
    },
    {
      "cell_type": "code",
      "source": [
        "## Check whether entered year is a leap year or not\n"
      ],
      "metadata": {
        "id": "6no9FSnFTUaP"
      },
      "execution_count": 8,
      "outputs": []
    },
    {
      "cell_type": "code",
      "source": [
        "a=int(input(\"Enter your year: \"))\n",
        "if a%4==0:\n",
        "  print(\"Leep year\")\n",
        "else:\n",
        "  print(\"Not a leap year\")\n"
      ],
      "metadata": {
        "colab": {
          "base_uri": "https://localhost:8080/"
        },
        "id": "kc5A5y2mTuXY",
        "outputId": "17cb8308-1011-4202-d604-9f8f92fb2056"
      },
      "execution_count": 10,
      "outputs": [
        {
          "output_type": "stream",
          "name": "stdout",
          "text": [
            "Enter your year: 2020\n",
            "Leep year\n"
          ]
        }
      ]
    },
    {
      "cell_type": "code",
      "source": [
        "## Check whether number is a palindrome or not"
      ],
      "metadata": {
        "id": "37vXERrtUY_o"
      },
      "execution_count": 11,
      "outputs": []
    },
    {
      "cell_type": "code",
      "source": [
        "n=int(input(\"Enter number:\"))\n",
        "temp=n\n",
        "rev=0\n",
        "while(n>0):\n",
        "    dig=n%10\n",
        "    rev=rev*10+dig\n",
        "    n=n//10\n",
        "if(temp==rev):\n",
        "    print(\"palindrome\")\n",
        "else:\n",
        "    print(\"Not palindrome\")"
      ],
      "metadata": {
        "colab": {
          "base_uri": "https://localhost:8080/"
        },
        "id": "k4u2gLuAVHl-",
        "outputId": "16b638e5-6dfc-4647-e1cd-34e24c79b359"
      },
      "execution_count": 12,
      "outputs": [
        {
          "output_type": "stream",
          "name": "stdout",
          "text": [
            "Enter number:34\n",
            "Not palindrome\n"
          ]
        }
      ]
    },
    {
      "cell_type": "code",
      "source": [
        "## swapping of two numbers"
      ],
      "metadata": {
        "id": "bKXxBuEgVson"
      },
      "execution_count": 13,
      "outputs": []
    },
    {
      "cell_type": "code",
      "source": [
        "x = 5\n",
        "y = 7\n",
        " \n",
        "print (\"Before swapping: \")\n",
        "print(\"Value of x : \", x, \" and y : \", y)\n",
        " \n",
        "\n",
        "x, y = y, x\n",
        " \n",
        "print (\"After swapping: \")\n",
        "print(\"Value of x : \", x, \" and y : \", y)"
      ],
      "metadata": {
        "id": "oGeolYYpVwRW"
      },
      "execution_count": null,
      "outputs": []
    }
  ]
}