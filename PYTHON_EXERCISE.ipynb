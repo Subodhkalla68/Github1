{
  "cells": [
    {
      "cell_type": "markdown",
      "metadata": {
        "id": "view-in-github",
        "colab_type": "text"
      },
      "source": [
        "<a href=\"https://colab.research.google.com/github/Subodhkalla68/Github1/blob/main/PYTHON_EXERCISE.ipynb\" target=\"_parent\"><img src=\"https://colab.research.google.com/assets/colab-badge.svg\" alt=\"Open In Colab\"/></a>"
      ]
    },
    {
      "cell_type": "markdown",
      "id": "e9641345",
      "metadata": {
        "id": "e9641345"
      },
      "source": [
        "# Average of three no.."
      ]
    },
    {
      "cell_type": "code",
      "execution_count": null,
      "id": "e6ac1676",
      "metadata": {
        "scrolled": true,
        "id": "e6ac1676",
        "outputId": "c287ad09-ad9a-4020-ed9a-776071464e5d"
      },
      "outputs": [
        {
          "name": "stdout",
          "output_type": "stream",
          "text": [
            "20.0\n",
            "<class 'float'>\n"
          ]
        }
      ],
      "source": [
        "a=10\n",
        "b=20\n",
        "c=30\n",
        "average=(a+b+c)/3\n",
        "print(average)\n",
        "print(type(average))\n"
      ]
    },
    {
      "cell_type": "markdown",
      "id": "9a30ee61",
      "metadata": {
        "id": "9a30ee61"
      },
      "source": [
        "#Multiplication of 3 no.."
      ]
    },
    {
      "cell_type": "code",
      "execution_count": null,
      "id": "b2b2c4fc",
      "metadata": {
        "scrolled": true,
        "id": "b2b2c4fc",
        "outputId": "89b95096-a0b6-4ec6-c32b-f117ea608553"
      },
      "outputs": [
        {
          "name": "stdout",
          "output_type": "stream",
          "text": [
            "6000\n",
            "<class 'int'>\n"
          ]
        }
      ],
      "source": [
        "a=10\n",
        "b=20\n",
        "c=30\n",
        "d=a*b*c\n",
        "print(d)\n",
        "print(type(d))"
      ]
    },
    {
      "cell_type": "markdown",
      "id": "349e57d4",
      "metadata": {
        "id": "349e57d4"
      },
      "source": [
        "# Dynamic addition of 2 no..."
      ]
    },
    {
      "cell_type": "code",
      "execution_count": null,
      "id": "a82fc109",
      "metadata": {
        "id": "a82fc109",
        "outputId": "d405d65b-025c-482e-9244-a1238e500552"
      },
      "outputs": [
        {
          "name": "stdout",
          "output_type": "stream",
          "text": [
            "enter a no: 10\n",
            "enter a no: 20\n",
            "30\n",
            "<class 'int'>\n"
          ]
        }
      ],
      "source": [
        "\n",
        "a=int(input(\"enter a no: \"))\n",
        "b=int(input(\"enter a no: \"))\n",
        "addition=(a+b)\n",
        "print(addition)\n",
        "print(type(addition))\n"
      ]
    },
    {
      "cell_type": "markdown",
      "id": "be7fd457",
      "metadata": {
        "id": "be7fd457"
      },
      "source": [
        "# Dynamic multipication of 2 no..\n"
      ]
    },
    {
      "cell_type": "code",
      "execution_count": null,
      "id": "ff4e44c4",
      "metadata": {
        "id": "ff4e44c4",
        "outputId": "f74bf78e-4ace-416c-b68b-d92acadd6fc9"
      },
      "outputs": [
        {
          "name": "stdout",
          "output_type": "stream",
          "text": [
            "enter a no: 20\n",
            "enter a no: 30\n",
            "600\n",
            "<class 'int'>\n"
          ]
        }
      ],
      "source": [
        "a=int(input(\"enter a no: \"))\n",
        "b=int(input(\"enter a no: \"))\n",
        "multiplication=(a*b)\n",
        "print(multiplication)\n",
        "print(type(multiplication))"
      ]
    },
    {
      "cell_type": "markdown",
      "id": "066ea843",
      "metadata": {
        "id": "066ea843"
      },
      "source": [
        "# Dynamic add 3 no.."
      ]
    },
    {
      "cell_type": "code",
      "execution_count": null,
      "id": "d65cb024",
      "metadata": {
        "id": "d65cb024",
        "outputId": "355d78f6-5a3b-42ee-f7e9-902983148404"
      },
      "outputs": [
        {
          "name": "stdout",
          "output_type": "stream",
          "text": [
            "enter a no: 20\n",
            "enter a no: 10\n",
            "enter a no: 20\n",
            "50\n",
            "<class 'int'>\n"
          ]
        }
      ],
      "source": [
        "a=int(input(\"enter a no: \"))\n",
        "b=int(input(\"enter a no: \"))\n",
        "c=int(input(\"enter a no: \"))\n",
        "addition=(a+b+c)\n",
        "print(addition)\n",
        "print(type(addition))"
      ]
    },
    {
      "cell_type": "markdown",
      "id": "6e740549",
      "metadata": {
        "id": "6e740549"
      },
      "source": [
        "# Dynamic multi 3 no..\n"
      ]
    },
    {
      "cell_type": "code",
      "execution_count": null,
      "id": "8acb43ec",
      "metadata": {
        "id": "8acb43ec",
        "outputId": "670fbf1d-f1ad-41ac-ca57-b2a913628ef4"
      },
      "outputs": [
        {
          "name": "stdout",
          "output_type": "stream",
          "text": [
            "enter a no: 10\n",
            "enter a no: 10\n",
            "enter a no: 10\n",
            "1000\n",
            "<class 'int'>\n"
          ]
        }
      ],
      "source": [
        "a=int(input(\"enter a no: \"))\n",
        "b=int(input(\"enter a no: \"))\n",
        "c=int(input(\"enter a no: \"))\n",
        "multi=(a*b*c)\n",
        "print(multi)\n",
        "print(type(multi))"
      ]
    },
    {
      "cell_type": "markdown",
      "id": "b131c6ca",
      "metadata": {
        "id": "b131c6ca"
      },
      "source": [
        "# Dynamic avg of 3 no.."
      ]
    },
    {
      "cell_type": "code",
      "execution_count": null,
      "id": "12087061",
      "metadata": {
        "id": "12087061",
        "outputId": "46b812fb-f6d4-4384-9e27-fb47a07e31bd"
      },
      "outputs": [
        {
          "name": "stdout",
          "output_type": "stream",
          "text": [
            "enter a no: 10\n",
            "enter a no: 10\n",
            "enter a no: 0\n",
            "6.666666666666667\n",
            "<class 'float'>\n"
          ]
        }
      ],
      "source": [
        "a=int(input(\"enter a no: \"))\n",
        "b=int(input(\"enter a no: \"))\n",
        "c=int(input(\"enter a no: \"))\n",
        "avg=(a+b+c)/3\n",
        "print(avg)\n",
        "print(type(avg))"
      ]
    },
    {
      "cell_type": "markdown",
      "id": "22dfc7d1",
      "metadata": {
        "id": "22dfc7d1"
      },
      "source": [
        "# TYPE CONVERSIONS"
      ]
    },
    {
      "cell_type": "markdown",
      "id": "7b928b1c",
      "metadata": {
        "id": "7b928b1c"
      },
      "source": [
        "## 1.INT TO FLOAT"
      ]
    },
    {
      "cell_type": "code",
      "execution_count": null,
      "id": "f53e915d",
      "metadata": {
        "id": "f53e915d",
        "outputId": "6091254f-560f-4a2d-e357-d86e2668c963"
      },
      "outputs": [
        {
          "name": "stdout",
          "output_type": "stream",
          "text": [
            "<class 'int'>\n",
            "<class 'float'>\n"
          ]
        }
      ],
      "source": [
        "a=10\n",
        "print(type(a))\n",
        "b=float(a)\n",
        "print(type(b))\n"
      ]
    },
    {
      "cell_type": "markdown",
      "id": "242d2be6",
      "metadata": {
        "id": "242d2be6"
      },
      "source": [
        "## 2.float to int"
      ]
    },
    {
      "cell_type": "code",
      "execution_count": null,
      "id": "54fcd821",
      "metadata": {
        "id": "54fcd821",
        "outputId": "1f68749e-6b9f-4ddd-9d08-d6cd51754388"
      },
      "outputs": [
        {
          "name": "stdout",
          "output_type": "stream",
          "text": [
            "<class 'float'>\n",
            "<class 'int'>\n",
            "10\n"
          ]
        }
      ],
      "source": [
        "a=10.32\n",
        "print(type(a))\n",
        "b=int(a)\n",
        "print(type(b))\n",
        "print(b)\n"
      ]
    },
    {
      "cell_type": "markdown",
      "id": "4e016424",
      "metadata": {
        "id": "4e016424"
      },
      "source": [
        "## 3.int to string"
      ]
    },
    {
      "cell_type": "code",
      "execution_count": null,
      "id": "34ee9b61",
      "metadata": {
        "id": "34ee9b61",
        "outputId": "367800dc-c2c1-494a-aa53-300cc67d3e5c"
      },
      "outputs": [
        {
          "name": "stdout",
          "output_type": "stream",
          "text": [
            "<class 'int'>\n",
            "<class 'str'>\n",
            "10\n"
          ]
        }
      ],
      "source": [
        "a=10\n",
        "print(type(a))\n",
        "b=str(a)\n",
        "print(type(b))\n",
        "print(b)\n"
      ]
    },
    {
      "cell_type": "markdown",
      "id": "53857c00",
      "metadata": {
        "id": "53857c00"
      },
      "source": [
        "## 4.float to string"
      ]
    },
    {
      "cell_type": "code",
      "execution_count": null,
      "id": "2ceba180",
      "metadata": {
        "id": "2ceba180",
        "outputId": "a1f83e27-5012-48cf-889e-9dc97a59eee1"
      },
      "outputs": [
        {
          "name": "stdout",
          "output_type": "stream",
          "text": [
            "<class 'float'>\n",
            "<class 'str'>\n",
            "10.33\n"
          ]
        }
      ],
      "source": [
        "a=10.33\n",
        "print(type(a))\n",
        "b=str(a)\n",
        "print(type(b))\n",
        "print(b)"
      ]
    },
    {
      "cell_type": "markdown",
      "id": "0e1be80a",
      "metadata": {
        "id": "0e1be80a"
      },
      "source": [
        "## 5.string to int"
      ]
    },
    {
      "cell_type": "code",
      "execution_count": null,
      "id": "7cf22a81",
      "metadata": {
        "id": "7cf22a81",
        "outputId": "ba482417-b329-4360-e1ee-4f1acbae9c1a"
      },
      "outputs": [
        {
          "name": "stdout",
          "output_type": "stream",
          "text": [
            "<class 'str'>\n",
            "<class 'int'>\n",
            "10\n"
          ]
        }
      ],
      "source": [
        "a=\"10\"\n",
        "print(type(a))\n",
        "b=int(a)\n",
        "print(type(b))\n",
        "print(b)"
      ]
    },
    {
      "cell_type": "markdown",
      "id": "42d5f814",
      "metadata": {
        "id": "42d5f814"
      },
      "source": [
        "## Boolean"
      ]
    },
    {
      "cell_type": "code",
      "execution_count": null,
      "id": "9b38c2bd",
      "metadata": {
        "id": "9b38c2bd",
        "outputId": "423d5c0e-2f84-4eeb-cace-dcca9915ef5f"
      },
      "outputs": [
        {
          "name": "stdout",
          "output_type": "stream",
          "text": [
            "True\n"
          ]
        }
      ],
      "source": [
        "a=30\n",
        "b=20\n",
        "c=a>b\n",
        "print(bool(c))"
      ]
    },
    {
      "cell_type": "markdown",
      "id": "97581bbd",
      "metadata": {
        "id": "97581bbd"
      },
      "source": [
        "## Boolean to int"
      ]
    },
    {
      "cell_type": "code",
      "execution_count": null,
      "id": "c430647e",
      "metadata": {
        "id": "c430647e",
        "outputId": "13f6daff-4b04-436b-be43-de6dc5f6a761"
      },
      "outputs": [
        {
          "name": "stdout",
          "output_type": "stream",
          "text": [
            "<class 'bool'>\n",
            "<class 'int'>\n"
          ]
        }
      ],
      "source": [
        "a=bool(30)\n",
        "print(type(a))\n",
        "b=int(a)\n",
        "print(type(b))"
      ]
    },
    {
      "cell_type": "markdown",
      "id": "8dd028f4",
      "metadata": {
        "id": "8dd028f4"
      },
      "source": [
        "## Boolean to string"
      ]
    },
    {
      "cell_type": "code",
      "execution_count": null,
      "id": "53671188",
      "metadata": {
        "id": "53671188",
        "outputId": "a67248dc-5cba-4089-fa49-a524a9e44c3b"
      },
      "outputs": [
        {
          "name": "stdout",
          "output_type": "stream",
          "text": [
            "<class 'bool'>\n",
            "<class 'str'>\n"
          ]
        }
      ],
      "source": [
        "a=bool(30)\n",
        "print(type(a))\n",
        "b=str(a)\n",
        "print(type(b))"
      ]
    },
    {
      "cell_type": "markdown",
      "id": "ac0c64ef",
      "metadata": {
        "id": "ac0c64ef"
      },
      "source": [
        "# Complex"
      ]
    },
    {
      "cell_type": "code",
      "execution_count": null,
      "id": "8d9a9568",
      "metadata": {
        "id": "8d9a9568",
        "outputId": "f175abab-929d-4e9c-a720-e67d05beda52"
      },
      "outputs": [
        {
          "name": "stdout",
          "output_type": "stream",
          "text": [
            "<class 'complex'>\n",
            "<class 'str'>\n"
          ]
        }
      ],
      "source": [
        "a=5+2j\n",
        "print(type(a))\n",
        "b=str(a)\n",
        "print(type(b))"
      ]
    },
    {
      "cell_type": "code",
      "execution_count": null,
      "id": "6a3ff104",
      "metadata": {
        "id": "6a3ff104"
      },
      "outputs": [],
      "source": [
        ""
      ]
    }
  ],
  "metadata": {
    "kernelspec": {
      "display_name": "Python 3 (ipykernel)",
      "language": "python",
      "name": "python3"
    },
    "language_info": {
      "codemirror_mode": {
        "name": "ipython",
        "version": 3
      },
      "file_extension": ".py",
      "mimetype": "text/x-python",
      "name": "python",
      "nbconvert_exporter": "python",
      "pygments_lexer": "ipython3",
      "version": "3.9.7"
    },
    "colab": {
      "name": "PYTHON EXERCISE.ipynb",
      "provenance": [],
      "include_colab_link": true
    }
  },
  "nbformat": 4,
  "nbformat_minor": 5
}