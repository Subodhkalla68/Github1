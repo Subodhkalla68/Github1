{
  "nbformat": 4,
  "nbformat_minor": 0,
  "metadata": {
    "colab": {
      "name": "Tuple.ipynb",
      "provenance": [],
      "collapsed_sections": [],
      "authorship_tag": "ABX9TyPX1ZzKfeYOXM0SJXnSfVuh",
      "include_colab_link": true
    },
    "kernelspec": {
      "name": "python3",
      "display_name": "Python 3"
    },
    "language_info": {
      "name": "python"
    }
  },
  "cells": [
    {
      "cell_type": "markdown",
      "metadata": {
        "id": "view-in-github",
        "colab_type": "text"
      },
      "source": [
        "<a href=\"https://colab.research.google.com/github/Subodhkalla68/Github1/blob/main/Tuple.ipynb\" target=\"_parent\"><img src=\"https://colab.research.google.com/assets/colab-badge.svg\" alt=\"Open In Colab\"/></a>"
      ]
    },
    {
      "cell_type": "code",
      "execution_count": 2,
      "metadata": {
        "colab": {
          "base_uri": "https://localhost:8080/"
        },
        "id": "-tDAU74qvjVN",
        "outputId": "b8a9d888-f3e5-49f1-dc5e-26b2e100b8e9"
      },
      "outputs": [
        {
          "output_type": "stream",
          "name": "stdout",
          "text": [
            "('ashoke', 'amruth', 'satya')\n"
          ]
        }
      ],
      "source": [
        "a = (\"ashoke\", \"amruth\", \"satya\")\n",
        "print(a)"
      ]
    },
    {
      "cell_type": "code",
      "source": [
        "a = (\"ashoke\", \"amruth\", \"satya\",)\n",
        "print(type(a))\n",
        "a = (\"ashoke\")\n",
        "print(type(a))"
      ],
      "metadata": {
        "colab": {
          "base_uri": "https://localhost:8080/"
        },
        "id": "rfMx_w-sw0dK",
        "outputId": "87b398d7-ffa4-4e68-e05a-9c090c9ce6bb"
      },
      "execution_count": 4,
      "outputs": [
        {
          "output_type": "stream",
          "name": "stdout",
          "text": [
            "<class 'tuple'>\n",
            "<class 'str'>\n"
          ]
        }
      ]
    },
    {
      "cell_type": "code",
      "source": [
        "a = (\"ashoke\", \"amruth\", \"satya\")\n",
        "print(a[1])"
      ],
      "metadata": {
        "colab": {
          "base_uri": "https://localhost:8080/"
        },
        "id": "CSVX9DyIyeYa",
        "outputId": "39d98ad2-8ccb-40e2-baaf-f19ed95a1e97"
      },
      "execution_count": 6,
      "outputs": [
        {
          "output_type": "stream",
          "name": "stdout",
          "text": [
            "amruth\n"
          ]
        }
      ]
    },
    {
      "cell_type": "code",
      "source": [
        "a = (\"ashoke\", \"amruth\", \"satya\")\n",
        "print(a[1:3])"
      ],
      "metadata": {
        "colab": {
          "base_uri": "https://localhost:8080/"
        },
        "id": "dBsrWut7yquw",
        "outputId": "5b5d1e76-32e5-4ebc-fe13-0123f1534c3c"
      },
      "execution_count": 8,
      "outputs": [
        {
          "output_type": "stream",
          "name": "stdout",
          "text": [
            "('amruth', 'satya')\n"
          ]
        }
      ]
    },
    {
      "cell_type": "code",
      "source": [
        "a = (\"ashoke\", \"amruth\", \"satya\")\n",
        "b=list(a)\n",
        "b[0]=\"Prajwal\"\n",
        "a=tuple(b)\n",
        "print(a)"
      ],
      "metadata": {
        "colab": {
          "base_uri": "https://localhost:8080/"
        },
        "id": "K056thexyyJQ",
        "outputId": "58cebf03-821d-46b5-d9c1-55bd29130831"
      },
      "execution_count": 14,
      "outputs": [
        {
          "output_type": "stream",
          "name": "stdout",
          "text": [
            "('Prajwal', 'amruth', 'satya')\n"
          ]
        }
      ]
    },
    {
      "cell_type": "code",
      "source": [
        "a = (\"ashoke\", \"amruth\", \"satya\")\n",
        "b=list(a)\n",
        "b.append(\"varsh\")\n",
        "b.append(\"v\")\n",
        "a=tuple(b)\n",
        "print(a)"
      ],
      "metadata": {
        "colab": {
          "base_uri": "https://localhost:8080/"
        },
        "id": "X3E2VpMV0Mu5",
        "outputId": "81dac81f-9bb5-4849-a4c5-a4cd20dfcdfe"
      },
      "execution_count": 21,
      "outputs": [
        {
          "output_type": "stream",
          "name": "stdout",
          "text": [
            "('ashoke', 'amruth', 'satya', 'varsh', 'v')\n"
          ]
        }
      ]
    },
    {
      "cell_type": "code",
      "source": [
        "a= (\"ashoke\", \"amruth\", \"satya\")\n",
        "b= (\"car\",\"Bike\",\"cycle\")\n",
        "c=list(a)\n",
        "d=list(b)\n",
        "c +=b\n",
        "a=tuple(c)\n",
        "b=tuple(d)\n",
        "print(a)\n",
        "\n"
      ],
      "metadata": {
        "colab": {
          "base_uri": "https://localhost:8080/"
        },
        "id": "i8QKYYEh0TYR",
        "outputId": "f659ec53-c9fb-48ed-ba1c-9793a2c97d2e"
      },
      "execution_count": 23,
      "outputs": [
        {
          "output_type": "stream",
          "name": "stdout",
          "text": [
            "('ashoke', 'amruth', 'satya', 'car', 'Bike', 'cycle')\n"
          ]
        }
      ]
    },
    {
      "cell_type": "code",
      "source": [
        ""
      ],
      "metadata": {
        "id": "jM-8HJmm3zw-"
      },
      "execution_count": null,
      "outputs": []
    }
  ]
}