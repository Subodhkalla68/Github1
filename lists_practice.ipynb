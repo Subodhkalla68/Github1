{
  "nbformat": 4,
  "nbformat_minor": 0,
  "metadata": {
    "colab": {
      "name": "lists practice.ipynb",
      "provenance": [],
      "collapsed_sections": [],
      "authorship_tag": "ABX9TyM+HmRYczVJ62SbmxViTuZb",
      "include_colab_link": true
    },
    "kernelspec": {
      "name": "python3",
      "display_name": "Python 3"
    },
    "language_info": {
      "name": "python"
    }
  },
  "cells": [
    {
      "cell_type": "markdown",
      "metadata": {
        "id": "view-in-github",
        "colab_type": "text"
      },
      "source": [
        "<a href=\"https://colab.research.google.com/github/Subodhkalla68/Github1/blob/main/lists_practice.ipynb\" target=\"_parent\"><img src=\"https://colab.research.google.com/assets/colab-badge.svg\" alt=\"Open In Colab\"/></a>"
      ]
    },
    {
      "cell_type": "code",
      "source": [
        "##lists practice"
      ],
      "metadata": {
        "id": "FgHnDzuPZuz9"
      },
      "execution_count": null,
      "outputs": []
    },
    {
      "cell_type": "code",
      "execution_count": null,
      "metadata": {
        "id": "b6_rsp7IVCJY"
      },
      "outputs": [],
      "source": [
        "a = \"Hello there!\"\n",
        "print(a[1])"
      ]
    },
    {
      "cell_type": "code",
      "source": [
        "for x in \"world\":\n",
        "  print(x)"
      ],
      "metadata": {
        "id": "kKTZWz-BYrHm"
      },
      "execution_count": null,
      "outputs": []
    },
    {
      "cell_type": "code",
      "source": [
        "a = \"Hello human!\"\n",
        "print(len(a))"
      ],
      "metadata": {
        "id": "9J2A2hzzYsBM"
      },
      "execution_count": null,
      "outputs": []
    },
    {
      "cell_type": "code",
      "source": [
        "txt = \"Everyone loves a free chocolate!!\"\n",
        "print(\"free\" in txt)"
      ],
      "metadata": {
        "id": "x_5ZHjUWYugG"
      },
      "execution_count": null,
      "outputs": []
    },
    {
      "cell_type": "code",
      "source": [
        "txt = \"Everyone loves a free chocolate!!\"\n",
        "if \"free\" in txt:\n",
        "  print(\"Yes, 'free' is present.\")"
      ],
      "metadata": {
        "id": "17b7hWSeYyC3"
      },
      "execution_count": null,
      "outputs": []
    },
    {
      "cell_type": "code",
      "source": [
        "b = \"good job!\"\n",
        "print(b[2:5])"
      ],
      "metadata": {
        "id": "ONEQQ9LfY3pq"
      },
      "execution_count": null,
      "outputs": []
    },
    {
      "cell_type": "code",
      "source": [
        "b = \"good job!\"\n",
        "print(b[-5:-2])"
      ],
      "metadata": {
        "id": "xEPtaUWdY8pv"
      },
      "execution_count": null,
      "outputs": []
    },
    {
      "cell_type": "code",
      "source": [
        "a = \" good job! \"\n",
        "print(a.strip())"
      ],
      "metadata": {
        "id": "EM0E9XdFZDp1"
      },
      "execution_count": null,
      "outputs": []
    },
    {
      "cell_type": "code",
      "source": [
        "a = \"good job!\"\n",
        "print(a.split(\",\"))"
      ],
      "metadata": {
        "id": "hQUiTEzhZICk"
      },
      "execution_count": null,
      "outputs": []
    }
  ]
}