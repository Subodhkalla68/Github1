{
  "nbformat": 4,
  "nbformat_minor": 0,
  "metadata": {
    "colab": {
      "name": "module2.ipynb",
      "provenance": [],
      "collapsed_sections": [],
      "authorship_tag": "ABX9TyPUA6ESoyQ6N3c4HT+e/cCu",
      "include_colab_link": true
    },
    "kernelspec": {
      "name": "python3",
      "display_name": "Python 3"
    },
    "language_info": {
      "name": "python"
    }
  },
  "cells": [
    {
      "cell_type": "markdown",
      "metadata": {
        "id": "view-in-github",
        "colab_type": "text"
      },
      "source": [
        "<a href=\"https://colab.research.google.com/github/Subodhkalla68/Github1/blob/main/module2.ipynb\" target=\"_parent\"><img src=\"https://colab.research.google.com/assets/colab-badge.svg\" alt=\"Open In Colab\"/></a>"
      ]
    },
    {
      "cell_type": "code",
      "execution_count": 29,
      "metadata": {
        "colab": {
          "base_uri": "https://localhost:8080/"
        },
        "id": "-yqyy2WI2aba",
        "outputId": "08a807df-bab5-461d-cfa8-92f681a7577c"
      },
      "outputs": [
        {
          "output_type": "stream",
          "name": "stdout",
          "text": [
            "Enter your nth number43\n",
            "Enter your r number32\n",
            "5752004349\n"
          ]
        }
      ],
      "source": [
        "n=int(input(\"\"))\n",
        "r=int(input(\"\"))\n",
        "def nCr(n, r):\n",
        " \n",
        "    return (fact(n) / (fact(r)\n",
        "                * fact(n - r)))\n",
        " \n",
        "def fact(n):\n",
        " \n",
        "    res = 1\n",
        "     \n",
        "    for i in range(2, n+1):\n",
        "        res = res * i\n",
        "         \n",
        "    return res\n",
        "\n",
        "\n",
        "print(int(nCr(n, r)))"
      ]
    },
    {
      "cell_type": "code",
      "source": [
        "def GCD(x,y):\n",
        "    r=x%y\n",
        "    if(r==0):\n",
        "        return y\n",
        "    else:\n",
        "        return GCD(y,r)\n",
        "n= int(input(\"\"))\n",
        "m= int(input(\"\"))\n",
        "print(\"\", GCD(n,m))"
      ],
      "metadata": {
        "id": "fXIIUv_KBYgS",
        "colab": {
          "base_uri": "https://localhost:8080/"
        },
        "outputId": "d30dd608-660a-495f-ff84-6a2e0bc34f4a"
      },
      "execution_count": 28,
      "outputs": [
        {
          "output_type": "stream",
          "name": "stdout",
          "text": [
            "Enter the first number :45\n",
            "Enter the second number :54\n",
            "The GCD of two numbers is: 9\n"
          ]
        }
      ]
    },
    {
      "cell_type": "code",
      "source": [
        "def mult(a,b):\n",
        "  return a*b\n",
        "n= int(input(\"\"))\n",
        "m= int(input(\"\"))\n",
        "print(\"\", mult(n,m))"
      ],
      "metadata": {
        "colab": {
          "base_uri": "https://localhost:8080/"
        },
        "id": "gVFXbYh1UCto",
        "outputId": "05079343-744b-4a57-ff31-9de16140df3b"
      },
      "execution_count": 27,
      "outputs": [
        {
          "output_type": "stream",
          "name": "stdout",
          "text": [
            "Enter the first number :4\n",
            "Enter the second number :5\n",
            "The product of two numbers is: 20\n"
          ]
        }
      ]
    },
    {
      "cell_type": "code",
      "source": [
        "def fib(a):\n",
        "   if a<= 1:\n",
        "       return a\n",
        "   else:\n",
        "       return(fib(a-1) + fib(a-2))\n",
        "a=int(input(\"\"))\n",
        "for i in range(a):\n",
        "  print(fib(i))"
      ],
      "metadata": {
        "colab": {
          "base_uri": "https://localhost:8080/"
        },
        "id": "EW-HWYdNUI81",
        "outputId": "a192751f-50e5-4583-acfc-cb64f2af508f"
      },
      "execution_count": 25,
      "outputs": [
        {
          "output_type": "stream",
          "name": "stdout",
          "text": [
            "enter until where you want the series10\n",
            "0\n",
            "1\n",
            "1\n",
            "2\n",
            "3\n",
            "5\n",
            "8\n",
            "13\n",
            "21\n",
            "34\n"
          ]
        }
      ]
    },
    {
      "cell_type": "code",
      "source": [
        "a=eval(input(\"\"))\n",
        "b=[]\n",
        "for i in range(len(a)):\n",
        "  if i==0 or i==4 or i==5:\n",
        "    pass\n",
        "  else:\n",
        "    b.append(a[i])\n",
        "a=b\n",
        "print(a)"
      ],
      "metadata": {
        "colab": {
          "base_uri": "https://localhost:8080/"
        },
        "id": "-uZ1_cYgUNQS",
        "outputId": "130295be-5ae9-4122-8f9e-177c22e5c61b"
      },
      "execution_count": 23,
      "outputs": [
        {
          "output_type": "stream",
          "name": "stdout",
          "text": [
            "enter list:[1,2,3,4,5,6]\n",
            "[2, 3, 4]\n"
          ]
        }
      ]
    },
    {
      "cell_type": "code",
      "source": [
        "a=eval(input(\"\"))\n",
        "for i in range(2):\n",
        "  min=a[0]\n",
        "  for j in a:\n",
        "    if j<min:\n",
        "      min=j\n",
        "  if i==0:\n",
        "    a.remove(min)\n",
        "for i in range(2):\n",
        "  max=a[0]\n",
        "  for j in a:\n",
        "    if j>max:\n",
        "      max=j\n",
        "  if i==0:\n",
        "    a.remove(max)\n",
        "print(min,max)"
      ],
      "metadata": {
        "colab": {
          "base_uri": "https://localhost:8080/"
        },
        "id": "Y_vILh65UR43",
        "outputId": "43be18b6-0d19-4050-c4a4-b932cebca819"
      },
      "execution_count": 22,
      "outputs": [
        {
          "output_type": "stream",
          "name": "stdout",
          "text": [
            "Enter a list:[0,1,2,3,4,5,6,7,8,9]\n",
            "1 8\n"
          ]
        }
      ]
    },
    {
      "cell_type": "code",
      "source": [
        "a=eval(input(\"\"))\n",
        "b=[]\n",
        "for i in a:\n",
        "  c=(i,i*i)\n",
        "  b.append(c)\n",
        "print(b)"
      ],
      "metadata": {
        "colab": {
          "base_uri": "https://localhost:8080/"
        },
        "id": "Q7xI4g8VUSIe",
        "outputId": "30e3ccc5-befc-4836-f126-8ffc28afb7b4"
      },
      "execution_count": 21,
      "outputs": [
        {
          "output_type": "stream",
          "name": "stdout",
          "text": [
            "Enter a list of numbers:[1,2,3,4,5,6,7]\n",
            "[(1, 1), (2, 4), (3, 9), (4, 16), (5, 25), (6, 36), (7, 49)]\n"
          ]
        }
      ]
    },
    {
      "cell_type": "code",
      "source": [
        "a={}\n",
        "b=eval(input(\"\"))\n",
        "for i in b:\n",
        "  a[i]=i*i\n",
        "print(a)"
      ],
      "metadata": {
        "colab": {
          "base_uri": "https://localhost:8080/"
        },
        "id": "rnt4fRgGUSLJ",
        "outputId": "6fd7254e-479a-4968-e72b-7062b6cf7def"
      },
      "execution_count": 20,
      "outputs": [
        {
          "output_type": "stream",
          "name": "stdout",
          "text": [
            "Enter list of numbers:{1:12,2:14,3:10,4:5}\n",
            "{1: 1, 2: 4, 3: 9, 4: 16}\n"
          ]
        }
      ]
    },
    {
      "cell_type": "code",
      "source": [
        "a=eval(input(\"\"))\n",
        "b=input(\"\")\n",
        "del a[b]\n",
        "print(a)"
      ],
      "metadata": {
        "colab": {
          "base_uri": "https://localhost:8080/"
        },
        "id": "tnzHKJ0-Uk0n",
        "outputId": "36deabde-f5cc-4bf5-af6e-9e7cf7ad0bbe"
      },
      "execution_count": 18,
      "outputs": [
        {
          "output_type": "stream",
          "name": "stdout",
          "text": [
            "Enter dictionary:{\"hi\":1,\"bye\":2,\"bruh\":3}\n",
            "Enter key to remove:bye\n",
            "{'hi': 1, 'bruh': 3}\n"
          ]
        }
      ]
    },
    {
      "cell_type": "code",
      "source": [
        "a=eval(input(\"\"))\n",
        "b=[]\n",
        "\n",
        "\n",
        "\n",
        "for i in a:\n",
        "  b.append(i)\n",
        "max,min=a[b[0]],a[b[0]]\n",
        "for i in b:\n",
        "  if max<a[i]:\n",
        "    max=a[i]\n",
        "for i in b:\n",
        "  if min>a[i]:\n",
        "    min=a[i]\n",
        "print(max,min)"
      ],
      "metadata": {
        "colab": {
          "base_uri": "https://localhost:8080/"
        },
        "id": "_Qw8WHbsUmCs",
        "outputId": "f4befb82-1c6b-4d70-962d-99d7d674824f"
      },
      "execution_count": 19,
      "outputs": [
        {
          "output_type": "stream",
          "name": "stdout",
          "text": [
            "Enter a dictionary:{1:12,2:14,3:10,4:5}\n",
            "14 5\n"
          ]
        }
      ]
    },
    {
      "cell_type": "code",
      "source": [
        "a=input(\"\")\n",
        "b=input(\"\")\n",
        "c=len(b)\n",
        "d=0\n",
        "for i in range(len(a)-c+1):\n",
        "  #print(a[i:i+c])\n",
        "  if(a[i:i+c]==b):\n",
        "    d+=1\n",
        "print(d)"
      ],
      "metadata": {
        "colab": {
          "base_uri": "https://localhost:8080/"
        },
        "id": "1Tc_pHncUpKu",
        "outputId": "c5846325-a7b7-4b83-a2f9-79f4dcbca416"
      },
      "execution_count": 5,
      "outputs": [
        {
          "output_type": "stream",
          "name": "stdout",
          "text": [
            "Enter a string:what is a string\n",
            "Enter the substring:okay\n",
            "0\n"
          ]
        }
      ]
    },
    {
      "cell_type": "code",
      "source": [
        "a=int(input(\"\"))\n",
        "b=int(input(\"\"))\n",
        "c=int(input(\"\"))\n",
        "if a==b==c:\n",
        "    print(\"Your triangle is Eqilatral\")\n",
        "elif a==b or b==c or c==a:\n",
        "    print(\"Your triangle is isociles\")\n",
        "else:\n",
        "  print(\"scalene\")"
      ],
      "metadata": {
        "colab": {
          "base_uri": "https://localhost:8080/"
        },
        "id": "OGvug1AUUrs8",
        "outputId": "be9a9a38-8ef5-4f38-b071-df528b37a21b"
      },
      "execution_count": 4,
      "outputs": [
        {
          "output_type": "stream",
          "name": "stdout",
          "text": [
            "Enter your angle:54\n",
            "Enter your angle:64\n",
            "Enter your angle:90\n",
            "scalene\n"
          ]
        }
      ]
    },
    {
      "cell_type": "code",
      "source": [
        "a=int(input(\"\"))\n",
        "if a%4==0:\n",
        "  print(\"Leep year\")\n",
        "else:\n",
        "  print(\"Not a leap year\")\n"
      ],
      "metadata": {
        "colab": {
          "base_uri": "https://localhost:8080/"
        },
        "id": "QP2z-N9qUv6e",
        "outputId": "61b56b9f-52f3-4b2c-f082-4d518d1563bf"
      },
      "execution_count": 3,
      "outputs": [
        {
          "output_type": "stream",
          "name": "stdout",
          "text": [
            "Enter your year: 2001\n",
            "Not a leap year\n"
          ]
        }
      ]
    },
    {
      "cell_type": "code",
      "source": [
        "n=int(input(\"\"))\n",
        "temp=n\n",
        "rev=0\n",
        "while(n>0):\n",
        "    dig=n%10\n",
        "    rev=rev*10+dig\n",
        "    n=n//10\n",
        "if(temp==rev):\n",
        "    print(\"palindrome\")\n",
        "else:\n",
        "    print(\"Not palindrome\")"
      ],
      "metadata": {
        "colab": {
          "base_uri": "https://localhost:8080/"
        },
        "id": "9FM-E1a_UybF",
        "outputId": "ecb16859-88e8-410c-e88d-c5fc22e04740"
      },
      "execution_count": 2,
      "outputs": [
        {
          "output_type": "stream",
          "name": "stdout",
          "text": [
            "Enter number:4\n",
            "palindrome\n"
          ]
        }
      ]
    },
    {
      "cell_type": "code",
      "source": [
        "x = 5\n",
        "y = 7\n",
        " \n",
        "print (\"Before swapping: \")\n",
        "print(\"Value of x : \", x, \" and y : \", y)\n",
        " \n",
        "\n",
        "x, y = y, x\n",
        " \n",
        "print (\"After swapping: \")\n",
        "print(\"Value of x : \", x, \" and y : \", y)"
      ],
      "metadata": {
        "colab": {
          "base_uri": "https://localhost:8080/"
        },
        "id": "HGAmzUQzU08c",
        "outputId": "a0e54257-e6c9-4e4e-d670-86e2247c2c74"
      },
      "execution_count": 1,
      "outputs": [
        {
          "output_type": "stream",
          "name": "stdout",
          "text": [
            "Before swapping: \n",
            "Value of x :  5  and y :  7\n",
            "After swapping: \n",
            "Value of x :  7  and y :  5\n"
          ]
        }
      ]
    }
  ]
}